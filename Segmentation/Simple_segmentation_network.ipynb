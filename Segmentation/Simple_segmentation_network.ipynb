{
 "cells": [
  {
   "cell_type": "code",
   "execution_count": 2,
   "metadata": {
    "collapsed": false
   },
   "outputs": [
    {
     "name": "stderr",
     "output_type": "stream",
     "text": [
      "Using TensorFlow backend.\n"
     ]
    }
   ],
   "source": [
    "import keras\n",
    "from keras.layers import Activation\n",
    "from keras.layers import Conv2D, MaxPooling2D\n",
    "from keras.models import Model\n",
    "from keras.layers import Input\n",
    "from keras.layers import BatchNormalization\n",
    "from keras.layers import UpSampling2D\n",
    "from keras.layers import Concatenate\n",
    "from keras.layers import Lambda \n",
    "from keras.utils import to_categorical\n",
    "import tensorflow as tf\n",
    "from keras.layers import Add \n",
    "\n",
    "from keras.layers import Reshape\n",
    "\n",
    "from keras import backend as K\n",
    "from keras import regularizers, optimizers\n",
    "%matplotlib inline"
   ]
  },
  {
   "cell_type": "code",
   "execution_count": 3,
   "metadata": {
    "collapsed": true
   },
   "outputs": [],
   "source": [
    "import scipy.io as scio\n",
    "import numpy as np    \n",
    "import os\n",
    "import matplotlib.pyplot as plt\n",
    "import math\n",
    "import re\n",
    "from scipy.misc import imsave\n",
    "from scipy import ndimage, misc\n",
    "from numpy import unravel_index\n",
    "from operator import sub"
   ]
  },
  {
   "cell_type": "code",
   "execution_count": 4,
   "metadata": {
    "collapsed": true
   },
   "outputs": [],
   "source": [
    "from keras.callbacks import ReduceLROnPlateau, CSVLogger,EarlyStopping,ModelCheckpoint"
   ]
  },
  {
   "cell_type": "code",
   "execution_count": 5,
   "metadata": {
    "collapsed": true
   },
   "outputs": [],
   "source": [
    "x = np.load('total_images.npy')"
   ]
  },
  {
   "cell_type": "code",
   "execution_count": 6,
   "metadata": {
    "collapsed": true
   },
   "outputs": [],
   "source": [
    "y = np.load('ground_truth.npy')"
   ]
  },
  {
   "cell_type": "code",
   "execution_count": 7,
   "metadata": {
    "collapsed": false
   },
   "outputs": [
    {
     "data": {
      "text/plain": [
       "(2000, 256, 128, 3)"
      ]
     },
     "execution_count": 7,
     "metadata": {},
     "output_type": "execute_result"
    }
   ],
   "source": [
    "x.shape"
   ]
  },
  {
   "cell_type": "code",
   "execution_count": 8,
   "metadata": {
    "collapsed": false
   },
   "outputs": [
    {
     "data": {
      "text/plain": [
       "(2000, 256, 128)"
      ]
     },
     "execution_count": 8,
     "metadata": {},
     "output_type": "execute_result"
    }
   ],
   "source": [
    "y.shape"
   ]
  },
  {
   "cell_type": "code",
   "execution_count": 9,
   "metadata": {
    "collapsed": false
   },
   "outputs": [
    {
     "name": "stdout",
     "output_type": "stream",
     "text": [
      "[0, 1, 2, 4, 5, 6, 9, 11, 14, 15, 16, 17, 18, 19, 21, 22, 24, 27, 29, 30, 31, 33, 34, 36, 37, 38, 39, 40, 42, 43, 45, 47, 48, 49, 50, 51, 52, 53, 56, 57, 59, 60, 62, 63, 64, 65, 66, 68, 69, 71, 75, 76, 77, 78, 80, 82, 83, 84, 89, 90, 93, 94, 95, 97, 98, 99, 100, 101, 102, 104, 106, 107, 111, 113, 114, 115, 116, 117, 118, 119, 120, 122, 123, 125, 126, 127, 130, 131, 133, 134, 135, 136, 139, 141, 142, 143, 144, 146, 147, 148, 149, 150, 151, 152, 153, 154, 155, 156, 158, 159, 161, 162, 163, 164, 166, 168, 169, 170, 171, 172, 173, 174, 175, 176, 177, 178, 179, 181, 183, 184, 185, 186, 187, 188, 189, 190, 191, 193, 194, 195, 196, 198, 199, 200, 201, 202, 203, 206, 207, 208, 209, 210, 211, 212, 213, 214, 215, 216, 217, 219, 221, 223, 224, 225, 228, 230, 231, 232, 235, 236, 237, 239, 240, 241, 243, 244, 245, 246, 247, 249, 250, 251, 252, 253, 255, 256, 257, 258, 259, 260, 261, 262, 263, 265, 266, 267, 269, 270, 271, 273, 274, 276, 277, 278, 282, 283, 284, 286, 287, 288, 290, 291, 295, 296, 298, 299, 300, 302, 303, 304, 305, 307, 308, 309, 310, 312, 314, 315, 316, 317, 318, 320, 322, 324, 325, 328, 329, 330, 331, 332, 333, 334, 335, 337, 338, 339, 341, 342, 343, 345, 346, 347, 348, 350, 351, 353, 354, 355, 357, 358, 359, 360, 361, 362, 364, 366, 367, 368, 370, 371, 372, 374, 375, 376, 377, 381, 382, 383, 384, 385, 386, 387, 389, 390, 391, 393, 394, 396, 397, 398, 399, 400, 401, 402, 403, 405, 406, 408, 411, 412, 413, 414, 415, 416, 418, 419, 420, 422, 423, 424, 425, 427, 428, 429, 431, 432, 434, 435, 437, 438, 439, 444, 445, 446, 448, 449, 451, 452, 453, 454, 456, 457, 458, 459, 461, 462, 463, 464, 465, 466, 467, 468, 469, 470, 472, 473, 474, 475, 480, 481, 482, 483, 484, 485, 486, 487, 488, 489, 490, 492, 493, 494, 495, 497, 498, 499, 500, 502, 503, 505, 506, 509, 510, 511, 512, 513, 515, 517, 518, 519, 520, 522, 523, 524, 525, 526, 527, 528, 529, 530, 531, 533, 534, 535, 536, 537, 538, 540, 541, 542, 543, 544, 546, 547, 548, 549, 550, 551, 552, 553, 554, 555, 556, 557, 558, 561, 562, 563, 564, 565, 566, 569, 570, 571, 572, 573, 574, 575, 577, 578, 579, 580, 581, 582, 583, 584, 585, 586, 587, 588, 589, 590, 591, 592, 593, 594, 595, 596, 598, 599, 600, 602, 603, 604, 606, 609, 610, 611, 612, 614, 615, 616, 618, 619, 620, 623, 624, 626, 627, 628, 629, 630, 631, 632, 633, 634, 635, 637, 640, 644, 645, 646, 647, 648, 649, 651, 652, 653, 656, 658, 659, 660, 664, 667, 668, 669, 670, 671, 673, 675, 677, 678, 679, 680, 681, 682, 683, 684, 685, 686, 687, 688, 690, 692, 694, 695, 697, 699, 700, 702, 703, 705, 707, 708, 709, 710, 711, 712, 713, 714, 717, 718, 719, 721, 724, 725, 728, 729, 730, 731, 732, 734, 735, 736, 737, 738, 739, 740, 741, 742, 744, 745, 746, 748, 749, 752, 753, 754, 756, 757, 758, 759, 760, 761, 764, 765, 766, 767, 768, 771, 773, 774, 775, 776, 777, 778, 779, 780, 781, 782, 784, 786, 788, 789, 791, 793, 794, 795, 796, 797, 798, 800, 801, 802, 803, 805, 806, 807, 808, 811, 813, 815, 817, 818, 820, 821, 822, 823, 824, 825, 826, 828, 830, 831, 832, 834, 835, 836, 837, 839, 840, 842, 843, 844, 845, 847, 848, 849, 850, 852, 853, 854, 855, 856, 858, 860, 861, 862, 863, 864, 865, 866, 868, 869, 870, 871, 872, 873, 874, 875, 877, 878, 881, 882, 883, 884, 885, 886, 887, 888, 889, 890, 891, 892, 893, 894, 895, 896, 898, 899, 900, 901, 902, 904, 905, 906, 907, 909, 911, 912, 913, 914, 915, 916, 917, 920, 921, 922, 923, 924, 925, 926, 929, 930, 931, 934, 935, 938, 939, 940, 941, 942, 943, 945, 946, 947, 948, 950, 953, 955, 957, 958, 959, 960, 961, 962, 963, 965, 966, 967, 968, 969, 970, 971, 972, 973, 974, 975, 976, 977, 978, 981, 982, 983, 984, 985, 987, 988, 989, 990, 991, 992, 993, 994, 995, 996, 997, 998, 1000, 1001, 1002, 1003, 1004, 1007, 1008, 1009, 1013, 1014, 1015, 1016, 1017, 1019, 1020, 1021, 1023, 1024, 1025, 1026, 1028, 1029, 1030, 1031, 1033, 1034, 1036, 1037, 1039, 1040, 1041, 1042, 1045, 1048, 1049, 1051, 1052, 1053, 1056, 1057, 1058, 1060, 1061, 1062, 1064, 1065, 1067, 1068, 1069, 1070, 1071, 1072, 1074, 1075, 1076, 1077, 1078, 1079, 1080, 1081, 1083, 1084, 1085, 1086, 1087, 1088, 1089, 1090, 1091, 1092, 1094, 1096, 1097, 1098, 1099, 1100, 1102, 1103, 1104, 1105, 1106, 1107, 1108, 1111, 1113, 1114, 1115, 1116, 1118, 1119, 1120, 1122, 1123, 1124, 1125, 1126, 1128, 1129, 1130, 1131, 1132, 1135, 1136, 1137, 1138, 1140, 1141, 1142, 1143, 1144, 1145, 1147, 1148, 1149, 1150, 1151, 1153, 1154, 1155, 1157, 1158, 1160, 1161, 1164, 1166, 1167, 1168, 1171, 1172, 1175, 1176, 1177, 1178, 1180, 1184, 1185, 1186, 1187, 1188, 1189, 1190, 1192, 1193, 1194, 1195, 1196, 1197, 1202, 1203, 1204, 1205, 1206, 1207, 1208, 1209, 1210, 1213, 1214, 1216, 1218, 1219, 1220, 1221, 1222, 1223, 1226, 1228, 1229, 1230, 1231, 1232, 1233, 1234, 1235, 1236, 1237, 1239, 1244, 1245, 1247, 1249, 1250, 1251, 1254, 1255, 1256, 1257, 1258, 1260, 1261, 1263, 1265, 1266, 1267, 1268, 1269, 1270, 1271, 1272, 1274, 1275, 1277, 1278, 1279, 1281, 1282, 1285, 1287, 1288, 1289, 1290, 1291, 1292, 1297, 1298, 1299, 1302, 1303, 1304, 1306, 1308, 1309, 1310, 1311, 1313, 1314, 1315, 1316, 1319, 1320, 1321, 1322, 1323, 1324, 1325, 1326, 1327, 1328, 1330, 1331, 1333, 1334, 1335, 1336, 1337, 1339, 1340, 1342, 1343, 1344, 1345, 1346, 1347, 1348, 1349, 1350, 1351, 1352, 1353, 1354, 1356, 1357, 1358, 1359, 1360, 1361, 1363, 1365, 1366, 1370, 1372, 1373, 1376, 1379, 1380, 1381, 1382, 1383, 1384, 1385, 1386, 1387, 1388, 1389, 1390, 1391, 1392, 1394, 1395, 1397, 1399, 1400, 1401, 1402, 1403, 1404, 1407, 1408, 1409, 1410, 1411, 1412, 1414, 1416, 1417, 1418, 1419, 1420, 1421, 1423, 1424, 1426, 1427, 1428, 1429, 1430, 1431, 1432, 1434, 1435, 1436, 1437, 1439, 1440, 1441, 1442, 1443, 1445, 1447, 1448, 1449, 1450, 1452, 1453, 1454, 1455, 1456, 1457, 1458, 1459, 1460, 1461, 1462, 1463, 1464, 1466, 1469, 1470, 1471, 1472, 1474, 1475, 1477, 1478, 1479, 1480, 1481, 1482, 1483, 1484, 1485, 1486, 1487, 1489, 1490, 1493, 1495, 1496, 1497, 1499, 1500, 1501, 1502, 1503, 1504, 1507, 1508, 1509, 1510, 1511, 1513, 1514, 1518, 1519, 1520, 1521, 1522, 1523, 1524, 1525, 1526, 1528, 1529, 1530, 1531, 1532, 1533, 1538, 1539, 1540, 1541, 1543, 1544, 1545, 1546, 1549, 1550, 1551, 1552, 1554, 1555, 1557, 1558, 1559, 1561, 1562, 1564, 1566, 1567, 1568, 1570, 1572, 1573, 1574, 1575, 1576, 1577, 1579, 1580, 1581, 1584, 1585, 1587, 1588, 1589, 1590, 1591, 1592, 1593, 1595, 1596, 1597, 1598, 1599, 1601, 1603, 1604, 1605, 1607, 1608, 1609, 1610, 1611, 1612, 1613, 1615, 1616, 1617, 1618, 1619, 1620, 1621, 1622, 1623, 1624, 1626, 1628, 1629, 1630, 1631, 1633, 1635, 1636, 1637, 1641, 1643, 1645, 1648, 1649, 1651, 1652, 1653, 1654, 1655, 1657, 1658, 1659, 1660, 1661, 1662, 1663, 1665, 1666, 1667, 1668, 1670, 1671, 1672, 1673, 1674, 1675, 1676, 1677, 1679, 1680, 1681, 1682, 1683, 1684, 1685, 1686, 1687, 1689, 1690, 1691, 1693, 1694, 1695, 1697, 1698, 1699, 1700, 1702, 1703, 1704, 1706, 1707, 1708, 1709, 1712, 1714, 1715, 1716, 1717, 1719, 1720, 1722, 1723, 1724, 1725, 1726, 1727, 1728, 1729, 1731, 1732, 1733, 1735, 1736, 1737, 1738, 1739, 1742, 1743, 1744, 1745, 1746, 1747, 1748, 1750, 1753, 1754, 1755, 1756, 1757, 1758, 1760, 1761, 1763, 1764, 1765, 1766, 1767, 1768, 1769, 1771, 1772, 1775, 1776, 1777, 1779, 1780, 1781, 1783, 1784, 1785, 1786, 1787, 1788, 1789, 1791, 1792, 1793, 1794, 1796, 1797, 1798, 1800, 1803, 1805, 1806, 1807, 1809, 1810, 1811, 1812, 1814, 1815, 1816, 1818, 1819, 1820, 1821, 1823, 1824, 1827, 1828, 1829, 1830, 1833, 1834, 1835, 1836, 1838, 1839, 1840, 1842, 1844, 1845, 1846, 1847, 1849, 1851, 1852, 1853, 1854, 1855, 1856, 1857, 1858, 1859, 1860, 1861, 1862, 1863, 1864, 1865, 1866, 1867, 1868, 1869, 1870, 1871, 1873, 1874, 1875, 1876, 1879, 1880, 1881, 1883, 1884, 1886, 1887, 1888, 1889, 1890, 1891, 1892, 1893, 1895, 1896, 1897, 1899, 1900, 1901, 1902, 1903, 1904, 1905, 1906, 1907, 1908, 1909, 1910, 1911, 1912, 1914, 1916, 1917, 1918, 1919, 1920, 1921, 1922, 1923, 1926, 1927, 1928, 1929, 1930, 1933, 1934, 1935, 1936, 1937, 1938, 1939, 1941, 1943, 1944, 1945, 1946, 1947, 1948, 1950, 1952, 1953, 1954, 1955, 1956, 1957, 1958, 1960, 1962, 1964, 1966, 1967, 1969, 1972, 1974, 1975, 1977, 1978, 1979, 1980, 1981, 1982, 1983, 1984, 1985, 1987, 1990, 1991, 1992, 1993, 1994, 1995, 1996, 1997, 1998, 1999]\n",
      "[3, 7, 8, 10, 12, 13, 20, 23, 25, 26, 28, 32, 35, 41, 44, 46, 54, 55, 58, 61, 67, 70, 72, 73, 74, 79, 81, 85, 86, 87, 88, 91, 92, 96, 103, 105, 108, 109, 110, 112, 121, 124, 128, 129, 132, 137, 138, 140, 145, 157, 160, 165, 167, 180, 182, 192, 197, 204, 205, 218, 220, 222, 226, 227, 229, 233, 234, 238, 242, 248, 254, 264, 268, 272, 275, 279, 280, 281, 285, 289, 292, 293, 294, 297, 301, 306, 311, 313, 319, 321, 323, 326, 327, 336, 340, 344, 349, 352, 356, 363, 365, 369, 373, 378, 379, 380, 388, 392, 395, 404, 407, 409, 410, 417, 421, 426, 430, 433, 436, 440, 441, 442, 443, 447, 450, 455, 460, 471, 476, 477, 478, 479, 491, 496, 501, 504, 507, 508, 514, 516, 521, 532, 539, 545, 559, 560, 567, 568, 576, 597, 601, 605, 607, 608, 613, 617, 621, 622, 625, 636, 638, 639, 641, 642, 643, 650, 654, 655, 657, 661, 662, 663, 665, 666, 672, 674, 676, 689, 691, 693, 696, 698, 701, 704, 706, 715, 716, 720, 722, 723, 726, 727, 733, 743, 747, 750, 751, 755, 762, 763, 769, 770, 772, 783, 785, 787, 790, 792, 799, 804, 809, 810, 812, 814, 816, 819, 827, 829, 833, 838, 841, 846, 851, 857, 859, 867, 876, 879, 880, 897, 903, 908, 910, 918, 919, 927, 928, 932, 933, 936, 937, 944, 949, 951, 952, 954, 956, 964, 979, 980, 986, 999, 1005, 1006, 1010, 1011, 1012, 1018, 1022, 1027, 1032, 1035, 1038, 1043, 1044, 1046, 1047, 1050, 1054, 1055, 1059, 1063, 1066, 1073, 1082, 1093, 1095, 1101, 1109, 1110, 1112, 1117, 1121, 1127, 1133, 1134, 1139, 1146, 1152, 1156, 1159, 1162, 1163, 1165, 1169, 1170, 1173, 1174, 1179, 1181, 1182, 1183, 1191, 1198, 1199, 1200, 1201, 1211, 1212, 1215, 1217, 1224, 1225, 1227, 1238, 1240, 1241, 1242, 1243, 1246, 1248, 1252, 1253, 1259, 1262, 1264, 1273, 1276, 1280, 1283, 1284, 1286, 1293, 1294, 1295, 1296, 1300, 1301, 1305, 1307, 1312, 1317, 1318, 1329, 1332, 1338, 1341, 1355, 1362, 1364, 1367, 1368, 1369, 1371, 1374, 1375, 1377, 1378, 1393, 1396, 1398, 1405, 1406, 1413, 1415, 1422, 1425, 1433, 1438, 1444, 1446, 1451, 1465, 1467, 1468, 1473, 1476, 1488, 1491, 1492, 1494, 1498, 1505, 1506, 1512, 1515, 1516, 1517, 1527, 1534, 1535, 1536, 1537, 1542, 1547, 1548, 1553, 1556, 1560, 1563, 1565, 1569, 1571, 1578, 1582, 1583, 1586, 1594, 1600, 1602, 1606, 1614, 1625, 1627, 1632, 1634, 1638, 1639, 1640, 1642, 1644, 1646, 1647, 1650, 1656, 1664, 1669, 1678, 1688, 1692, 1696, 1701, 1705, 1710, 1711, 1713, 1718, 1721, 1730, 1734, 1740, 1741, 1749, 1751, 1752, 1759, 1762, 1770, 1773, 1774, 1778, 1782, 1790, 1795, 1799, 1801, 1802, 1804, 1808, 1813, 1817, 1822, 1825, 1826, 1831, 1832, 1837, 1841, 1843, 1848, 1850, 1872, 1877, 1878, 1882, 1885, 1894, 1898, 1913, 1915, 1924, 1925, 1931, 1932, 1940, 1942, 1949, 1951, 1959, 1961, 1963, 1965, 1968, 1970, 1971, 1973, 1976, 1986, 1988, 1989]\n"
     ]
    }
   ],
   "source": [
    "train_indices = np.random.choice(2000,1500,replace = False)\n",
    "print(sorted(train_indices))\n",
    "x_train_images = []\n",
    "y_train_labels = [] \n",
    "for i in train_indices:\n",
    "    x_train_images.append(x[i])\n",
    "    y_train_labels.append(y[i])\n",
    "\n",
    "test_indices = [xy for xy in range(2000) if xy not in train_indices]\n",
    "print(test_indices)\n",
    "x_test_images = []\n",
    "y_test_labels = []\n",
    "\n",
    "for i in test_indices:\n",
    "    x_test_images.append(x[i])\n",
    "    y_test_labels.append(y[i])\n"
   ]
  },
  {
   "cell_type": "code",
   "execution_count": 10,
   "metadata": {
    "collapsed": true
   },
   "outputs": [],
   "source": [
    "x_train = np.array(x_train_images)"
   ]
  },
  {
   "cell_type": "code",
   "execution_count": 11,
   "metadata": {
    "collapsed": false
   },
   "outputs": [
    {
     "data": {
      "text/plain": [
       "(1500, 256, 128, 3)"
      ]
     },
     "execution_count": 11,
     "metadata": {},
     "output_type": "execute_result"
    }
   ],
   "source": [
    "x_train.shape"
   ]
  },
  {
   "cell_type": "code",
   "execution_count": 12,
   "metadata": {
    "collapsed": true
   },
   "outputs": [],
   "source": [
    "x_test = np.array(x_test_images)"
   ]
  },
  {
   "cell_type": "code",
   "execution_count": 13,
   "metadata": {
    "collapsed": false
   },
   "outputs": [
    {
     "data": {
      "text/plain": [
       "(500, 256, 128, 3)"
      ]
     },
     "execution_count": 13,
     "metadata": {},
     "output_type": "execute_result"
    }
   ],
   "source": [
    "x_test.shape"
   ]
  },
  {
   "cell_type": "code",
   "execution_count": 14,
   "metadata": {
    "collapsed": true
   },
   "outputs": [],
   "source": [
    "y_train = np.array(y_train_labels)"
   ]
  },
  {
   "cell_type": "code",
   "execution_count": 15,
   "metadata": {
    "collapsed": false
   },
   "outputs": [
    {
     "data": {
      "text/plain": [
       "(1500, 256, 128)"
      ]
     },
     "execution_count": 15,
     "metadata": {},
     "output_type": "execute_result"
    }
   ],
   "source": [
    "y_train.shape"
   ]
  },
  {
   "cell_type": "code",
   "execution_count": 16,
   "metadata": {
    "collapsed": true
   },
   "outputs": [],
   "source": [
    "y_test = np.array(y_test_labels)"
   ]
  },
  {
   "cell_type": "code",
   "execution_count": 17,
   "metadata": {
    "collapsed": false
   },
   "outputs": [
    {
     "data": {
      "text/plain": [
       "(500, 256, 128)"
      ]
     },
     "execution_count": 17,
     "metadata": {},
     "output_type": "execute_result"
    }
   ],
   "source": [
    "y_test.shape"
   ]
  },
  {
   "cell_type": "code",
   "execution_count": 18,
   "metadata": {
    "collapsed": false
   },
   "outputs": [
    {
     "data": {
      "text/plain": [
       "dtype('uint8')"
      ]
     },
     "execution_count": 18,
     "metadata": {},
     "output_type": "execute_result"
    }
   ],
   "source": [
    "y_test.dtype"
   ]
  },
  {
   "cell_type": "code",
   "execution_count": 19,
   "metadata": {
    "collapsed": true
   },
   "outputs": [],
   "source": [
    "#z-score\n",
    "mean = np.mean(x_train,axis=(0,1,2,3))\n",
    "std = np.std(x_train,axis=(0,1,2,3))\n",
    "x_train = (x_train-mean)/(std+1e-7)\n",
    "x_test = (x_test-mean)/(std+1e-7)"
   ]
  },
  {
   "cell_type": "code",
   "execution_count": 20,
   "metadata": {
    "collapsed": true
   },
   "outputs": [],
   "source": [
    "np.save(\"x_train2.npy\",x_train)\n",
    "np.save(\"x_test2.npy\", x_test)\n",
    "np.save(\"y_train2.npy\",y_train)\n",
    "np.save(\"y_test2,npy\", y_test)"
   ]
  },
  {
   "cell_type": "code",
   "execution_count": 9,
   "metadata": {
    "collapsed": true
   },
   "outputs": [],
   "source": [
    "x_train = np.load('x_train2.npy')\n",
    "x_test = np.load('x_test2.npy')\n",
    "y_train = np.load('y_train2.npy')\n",
    "y_test = np.load('y_test2,npy.npy')"
   ]
  },
  {
   "cell_type": "code",
   "execution_count": 21,
   "metadata": {
    "collapsed": true
   },
   "outputs": [],
   "source": [
    "rows = 256\n",
    "cols = 128"
   ]
  },
  {
   "cell_type": "code",
   "execution_count": 10,
   "metadata": {
    "collapsed": true
   },
   "outputs": [],
   "source": [
    "data_shape = 216*64\n",
    "weight_decay = 0.0001"
   ]
  },
  {
   "cell_type": "code",
   "execution_count": 11,
   "metadata": {
    "collapsed": false
   },
   "outputs": [
    {
     "name": "stdout",
     "output_type": "stream",
     "text": [
      "____________________________________________________________________________________________________\n",
      "Layer (type)                     Output Shape          Param #     Connected to                     \n",
      "====================================================================================================\n",
      "input_1 (InputLayer)             (None, None, None, 3) 0                                            \n",
      "____________________________________________________________________________________________________\n",
      "conv2d_1 (Conv2D)                (None, None, None, 64 1792                                         \n",
      "____________________________________________________________________________________________________\n",
      "batch_normalization_1 (BatchNorm (None, None, None, 64 256                                          \n",
      "____________________________________________________________________________________________________\n",
      "activation_1 (Activation)        (None, None, None, 64 0                                            \n",
      "____________________________________________________________________________________________________\n",
      "max_pooling2d_1 (MaxPooling2D)   (None, None, None, 64 0                                            \n",
      "____________________________________________________________________________________________________\n",
      "conv2d_2 (Conv2D)                (None, None, None, 12 73856                                        \n",
      "____________________________________________________________________________________________________\n",
      "batch_normalization_2 (BatchNorm (None, None, None, 12 512                                          \n",
      "____________________________________________________________________________________________________\n",
      "activation_2 (Activation)        (None, None, None, 12 0                                            \n",
      "____________________________________________________________________________________________________\n",
      "max_pooling2d_2 (MaxPooling2D)   (None, None, None, 12 0                                            \n",
      "____________________________________________________________________________________________________\n",
      "conv2d_3 (Conv2D)                (None, None, None, 12 147584                                       \n",
      "____________________________________________________________________________________________________\n",
      "batch_normalization_3 (BatchNorm (None, None, None, 12 512                                          \n",
      "____________________________________________________________________________________________________\n",
      "activation_3 (Activation)        (None, None, None, 12 0                                            \n",
      "____________________________________________________________________________________________________\n",
      "conv_dil_1 (Conv2D)              (None, None, None, 12 147584                                       \n",
      "____________________________________________________________________________________________________\n",
      "batch_normalization_4 (BatchNorm (None, None, None, 12 512                                          \n",
      "____________________________________________________________________________________________________\n",
      "activation_4 (Activation)        (None, None, None, 12 0                                            \n",
      "____________________________________________________________________________________________________\n",
      "conv_dil_2 (Conv2D)              (None, None, None, 12 147584                                       \n",
      "____________________________________________________________________________________________________\n",
      "batch_normalization_5 (BatchNorm (None, None, None, 12 512                                          \n",
      "____________________________________________________________________________________________________\n",
      "activation_5 (Activation)        (None, None, None, 12 0                                            \n",
      "____________________________________________________________________________________________________\n",
      "conv_dil_3 (Conv2D)              (None, None, None, 12 147584                                       \n",
      "____________________________________________________________________________________________________\n",
      "batch_normalization_6 (BatchNorm (None, None, None, 12 512                                          \n",
      "____________________________________________________________________________________________________\n",
      "activation_6 (Activation)        (None, None, None, 12 0                                            \n",
      "____________________________________________________________________________________________________\n",
      "skip_conv_1 (Conv2D)             (None, None, None, 12 147584                                       \n",
      "____________________________________________________________________________________________________\n",
      "add_1 (Add)                      (None, None, None, 12 0                                            \n",
      "____________________________________________________________________________________________________\n",
      "up_sampling2d_1 (UpSampling2D)   (None, None, None, 12 0                                            \n",
      "____________________________________________________________________________________________________\n",
      "conv2d_4 (Conv2D)                (None, None, None, 12 147584                                       \n",
      "____________________________________________________________________________________________________\n",
      "batch_normalization_7 (BatchNorm (None, None, None, 12 512                                          \n",
      "____________________________________________________________________________________________________\n",
      "activation_7 (Activation)        (None, None, None, 12 0                                            \n",
      "____________________________________________________________________________________________________\n",
      "skip_conv_2 (Conv2D)             (None, None, None, 12 73856                                        \n",
      "____________________________________________________________________________________________________\n",
      "add_2 (Add)                      (None, None, None, 12 0                                            \n",
      "____________________________________________________________________________________________________\n",
      "up_sampling2d_2 (UpSampling2D)   (None, None, None, 12 0                                            \n",
      "____________________________________________________________________________________________________\n",
      "conv2d_5 (Conv2D)                (None, None, None, 64 73792                                        \n",
      "____________________________________________________________________________________________________\n",
      "batch_normalization_8 (BatchNorm (None, None, None, 64 256                                          \n",
      "____________________________________________________________________________________________________\n",
      "activation_8 (Activation)        (None, None, None, 64 0                                            \n",
      "____________________________________________________________________________________________________\n",
      "conv2d_6 (Conv2D)                (None, None, None, 1) 65                                           \n",
      "____________________________________________________________________________________________________\n",
      "activation_9 (Activation)        (None, None, None, 1) 0                                            \n",
      "====================================================================================================\n",
      "Total params: 1,112,449.0\n",
      "Trainable params: 1,110,657.0\n",
      "Non-trainable params: 1,792.0\n",
      "____________________________________________________________________________________________________\n"
     ]
    }
   ],
   "source": [
    "# Defines the input tensor\n",
    "inputs = Input(shape=(None,None,3))\n",
    "\n",
    "L1 = Conv2D(64,kernel_size=(3,3),padding = \"same\",kernel_regularizer=regularizers.l2(weight_decay))(inputs)\n",
    "L2 = BatchNormalization()(L1)\n",
    "L2 = Activation('relu')(L2)\n",
    "#L3 = Lambda(maxpool_1,output_shape = shape)(L2)\n",
    "L3 = MaxPooling2D(pool_size=(2,2))(L2)\n",
    "L4 = Conv2D(128,kernel_size=(3,3),padding = \"same\",kernel_regularizer=regularizers.l2(weight_decay))(L3)\n",
    "L5 = BatchNormalization()(L4)\n",
    "L5 = Activation('relu')(L5)\n",
    "#L6 = Lambda(maxpool_2,output_shape = shape)(L5)\n",
    "L6 = MaxPooling2D(pool_size=(2,2))(L5)\n",
    "L7 = Conv2D(128,kernel_size=(3,3),padding = \"same\",kernel_regularizer=regularizers.l2(weight_decay))(L6)\n",
    "L8 = BatchNormalization()(L7)\n",
    "L9 = Activation('relu')(L8)\n",
    "L10 = Conv2D(128,(3,3),dilation_rate= (2,2), padding = \"same\", activation='relu', name = \"conv_dil_1\")(L9)\n",
    "L11 = BatchNormalization()(L10)\n",
    "L12 = Activation('relu')(L11)\n",
    "L13 = Conv2D(128,(3,3),dilation_rate= (4,4), padding = \"same\", activation='relu', name = \"conv_dil_2\")(L12)\n",
    "L14 = BatchNormalization()(L13)\n",
    "L15 = Activation('relu')(L14)\n",
    "L16 = Conv2D(128,(3,3),dilation_rate= (8,8), padding = \"same\", activation='relu', name = \"conv_dil_3\")(L15)\n",
    "L17 = BatchNormalization()(L16)\n",
    "L18 = Activation('relu')(L17)\n",
    "L19 = Conv2D(128,kernel_size=(3,3),padding = \"same\",kernel_regularizer=regularizers.l2(weight_decay),\n",
    "             name=\"skip_conv_1\")(L6)\n",
    "L20 = Add()([L18,L19])\n",
    "L21 = UpSampling2D( size = (2,2)) (L20)\n",
    "#L21 = Deconvolution2D(128, kernel_size = (3,3), strides = (2,2), activation = \"relu\", \n",
    " #                     name = \"ct_deconv_1\", padding = \"same\")(L20)\n",
    "L21 = Conv2D(128,(3,3), padding = \"same\", kernel_regularizer=regularizers.l2(weight_decay))(L21)\n",
    "L22 = BatchNormalization()(L21)\n",
    "L23 = Activation('relu')(L22)\n",
    "L24 = Conv2D(128,kernel_size=(3,3),padding = \"same\",kernel_regularizer=regularizers.l2(weight_decay),\n",
    "             name=\"skip_conv_2\")(L3)\n",
    "L24 = Add()([L23,L24])\n",
    "L25 = UpSampling2D(size = (2,2))(L24)\n",
    "L25 = Conv2D(64, (3,3), padding = \"same\", kernel_regularizer=regularizers.l2(weight_decay))(L25)\n",
    "#L25 = Deconvolution2D(64, kernel_size = (3,3), strides = (2,2), activation = \"relu\", \n",
    " #                     name = \"ct_deconv_2\", padding = \"same\")(L24)\n",
    "#L25 = \n",
    "L26 = BatchNormalization()(L25)\n",
    "L27 = Activation('relu')(L26)\n",
    "L28 = Conv2D(1,kernel_size=(1,1),padding = \"same\",kernel_regularizer=regularizers.l2(weight_decay))(L27)#\n",
    "\n",
    "L30 = Activation('sigmoid')(L28)\n",
    "model = Model(inputs = inputs, outputs = L30)\n",
    "model.summary()\n"
   ]
  },
  {
   "cell_type": "code",
   "execution_count": 12,
   "metadata": {
    "collapsed": false
   },
   "outputs": [
    {
     "data": {
      "text/plain": [
       "(1500, 256, 128, 3)"
      ]
     },
     "execution_count": 12,
     "metadata": {},
     "output_type": "execute_result"
    }
   ],
   "source": [
    "x_train.shape"
   ]
  },
  {
   "cell_type": "code",
   "execution_count": 13,
   "metadata": {
    "collapsed": false
   },
   "outputs": [
    {
     "data": {
      "text/plain": [
       "(500, 256, 128, 3)"
      ]
     },
     "execution_count": 13,
     "metadata": {},
     "output_type": "execute_result"
    }
   ],
   "source": [
    "x_test.shape"
   ]
  },
  {
   "cell_type": "code",
   "execution_count": 14,
   "metadata": {
    "collapsed": false
   },
   "outputs": [
    {
     "data": {
      "text/plain": [
       "(1500, 256, 128)"
      ]
     },
     "execution_count": 14,
     "metadata": {},
     "output_type": "execute_result"
    }
   ],
   "source": [
    "y_train.shape"
   ]
  },
  {
   "cell_type": "code",
   "execution_count": 15,
   "metadata": {
    "collapsed": false
   },
   "outputs": [],
   "source": [
    "y_train = y_train.reshape(y_train.shape[0],256,128,1)"
   ]
  },
  {
   "cell_type": "code",
   "execution_count": 16,
   "metadata": {
    "collapsed": true
   },
   "outputs": [],
   "source": [
    "y_test = y_test.reshape(y_test.shape[0],256,128,1)"
   ]
  },
  {
   "cell_type": "code",
   "execution_count": 17,
   "metadata": {
    "collapsed": true
   },
   "outputs": [],
   "source": [
    "smooth = 1"
   ]
  },
  {
   "cell_type": "code",
   "execution_count": 18,
   "metadata": {
    "collapsed": true
   },
   "outputs": [],
   "source": [
    "def dice_coef(y_true, y_pred):\n",
    "    y_true_f = K.flatten(y_true)\n",
    "    y_pred_f = K.flatten(y_pred)\n",
    "    intersection = K.sum(y_true_f * y_pred_f)\n",
    "    return (2. * intersection + smooth) / (K.sum(y_true_f) + K.sum(y_pred_f) + smooth)\n"
   ]
  },
  {
   "cell_type": "code",
   "execution_count": 19,
   "metadata": {
    "collapsed": true
   },
   "outputs": [],
   "source": [
    "def dice_coef_loss(y_true, y_pred):\n",
    "    return -dice_coef(y_true, y_pred)"
   ]
  },
  {
   "cell_type": "code",
   "execution_count": 20,
   "metadata": {
    "collapsed": true
   },
   "outputs": [],
   "source": [
    "def customized_loss(y_true,y_pred):\n",
    "    return (1*K.binary_crossentropy(y_true, y_pred))+(0.5*dice_coef_loss(y_true, y_pred))"
   ]
  },
  {
   "cell_type": "code",
   "execution_count": 21,
   "metadata": {
    "collapsed": true
   },
   "outputs": [],
   "source": [
    "optimiser = optimizers.Adam(lr = 0.01)"
   ]
  },
  {
   "cell_type": "code",
   "execution_count": 22,
   "metadata": {
    "collapsed": true
   },
   "outputs": [],
   "source": [
    "model.compile(optimizer=optimiser,loss=dice_coef_loss,metrics=['accuracy',dice_coef])"
   ]
  },
  {
   "cell_type": "code",
   "execution_count": 23,
   "metadata": {
    "collapsed": true
   },
   "outputs": [],
   "source": [
    "#Defining Callback functions which will be called by model during runtime when specified condition satisfies\n",
    "lr_reducer = ReduceLROnPlateau(factor=0.5, cooldown=0, patience=6, min_lr=0.5e-6)\n",
    "csv_logger = CSVLogger('segmentation_lr_e2_bs4.csv')\n",
    "model_chekpoint = ModelCheckpoint(\"segmentation_lr_e2_bs4.hdf5\",monitor = 'val_loss',verbose = 1,save_best_only=True)"
   ]
  },
  {
   "cell_type": "code",
   "execution_count": 24,
   "metadata": {
    "collapsed": false
   },
   "outputs": [
    {
     "name": "stdout",
     "output_type": "stream",
     "text": [
      "Train on 1500 samples, validate on 500 samples\n",
      "Epoch 1/200\n",
      "1496/1500 [============================>.] - ETA: 1s - loss: -0.5413 - acc: 0.8522 - dice_coef: 0.6145Epoch 00000: val_loss improved from inf to -0.54429, saving model to segmentation_lr_e2_bs4.hdf5\n",
      "1500/1500 [==============================] - 496s - loss: -0.5415 - acc: 0.8524 - dice_coef: 0.6148 - val_loss: -0.5443 - val_acc: 0.8490 - val_dice_coef: 0.6322\n",
      "Epoch 2/200\n",
      "1496/1500 [============================>.] - ETA: 1s - loss: -0.6844 - acc: 0.9031 - dice_coef: 0.7299Epoch 00001: val_loss improved from -0.54429 to -0.68175, saving model to segmentation_lr_e2_bs4.hdf5\n",
      "1500/1500 [==============================] - 488s - loss: -0.6840 - acc: 0.9031 - dice_coef: 0.7295 - val_loss: -0.6818 - val_acc: 0.9088 - val_dice_coef: 0.7294\n",
      "Epoch 3/200\n",
      "1496/1500 [============================>.] - ETA: 1s - loss: -0.7345 - acc: 0.9196 - dice_coef: 0.7742Epoch 00002: val_loss did not improve\n",
      "1500/1500 [==============================] - 488s - loss: -0.7350 - acc: 0.9197 - dice_coef: 0.7747 - val_loss: -0.5421 - val_acc: 0.8939 - val_dice_coef: 0.5737\n",
      "Epoch 4/200\n",
      "1496/1500 [============================>.] - ETA: 1s - loss: -0.7578 - acc: 0.9262 - dice_coef: 0.7920Epoch 00003: val_loss improved from -0.68175 to -0.73656, saving model to segmentation_lr_e2_bs4.hdf5\n",
      "1500/1500 [==============================] - 488s - loss: -0.7573 - acc: 0.9262 - dice_coef: 0.7916 - val_loss: -0.7366 - val_acc: 0.9236 - val_dice_coef: 0.7709\n",
      "Epoch 5/200\n",
      "1496/1500 [============================>.] - ETA: 1s - loss: -0.7748 - acc: 0.9299 - dice_coef: 0.8026Epoch 00004: val_loss did not improve\n",
      "1500/1500 [==============================] - 488s - loss: -0.7752 - acc: 0.9301 - dice_coef: 0.8029 - val_loss: -0.5978 - val_acc: 0.8961 - val_dice_coef: 0.6275\n",
      "Epoch 6/200\n",
      "1496/1500 [============================>.] - ETA: 1s - loss: -0.7814 - acc: 0.9334 - dice_coef: 0.8090Epoch 00005: val_loss did not improve\n",
      "1500/1500 [==============================] - 488s - loss: -0.7816 - acc: 0.9335 - dice_coef: 0.8093 - val_loss: -0.7148 - val_acc: 0.9160 - val_dice_coef: 0.7441\n",
      "Epoch 7/200\n",
      "1496/1500 [============================>.] - ETA: 1s - loss: -0.8071 - acc: 0.9379 - dice_coef: 0.8254Epoch 00006: val_loss did not improve\n",
      "1500/1500 [==============================] - 488s - loss: -0.8072 - acc: 0.9379 - dice_coef: 0.8255 - val_loss: -0.6915 - val_acc: 0.8977 - val_dice_coef: 0.7183\n",
      "Epoch 8/200\n",
      "1496/1500 [============================>.] - ETA: 1s - loss: -0.8006 - acc: 0.9375 - dice_coef: 0.8239Epoch 00007: val_loss improved from -0.73656 to -0.75917, saving model to segmentation_lr_e2_bs4.hdf5\n",
      "1500/1500 [==============================] - 488s - loss: -0.8009 - acc: 0.9375 - dice_coef: 0.8241 - val_loss: -0.7592 - val_acc: 0.9303 - val_dice_coef: 0.7776\n",
      "Epoch 9/200\n",
      "1496/1500 [============================>.] - ETA: 1s - loss: -0.8194 - acc: 0.9407 - dice_coef: 0.8360Epoch 00008: val_loss improved from -0.75917 to -0.77240, saving model to segmentation_lr_e2_bs4.hdf5\n",
      "1500/1500 [==============================] - 488s - loss: -0.8191 - acc: 0.9407 - dice_coef: 0.8357 - val_loss: -0.7724 - val_acc: 0.9339 - val_dice_coef: 0.7882\n",
      "Epoch 10/200\n",
      "1496/1500 [============================>.] - ETA: 1s - loss: -0.8159 - acc: 0.9421 - dice_coef: 0.8349Epoch 00009: val_loss did not improve\n",
      "1500/1500 [==============================] - 488s - loss: -0.8160 - acc: 0.9422 - dice_coef: 0.8350 - val_loss: -0.7175 - val_acc: 0.9240 - val_dice_coef: 0.7353\n",
      "Epoch 11/200\n",
      "1496/1500 [============================>.] - ETA: 1s - loss: -0.8262 - acc: 0.9437 - dice_coef: 0.8434Epoch 00010: val_loss improved from -0.77240 to -0.77985, saving model to segmentation_lr_e2_bs4.hdf5\n",
      "1500/1500 [==============================] - 488s - loss: -0.8264 - acc: 0.9438 - dice_coef: 0.8436 - val_loss: -0.7798 - val_acc: 0.9366 - val_dice_coef: 0.7998\n",
      "Epoch 12/200\n",
      "1496/1500 [============================>.] - ETA: 1s - loss: -0.8316 - acc: 0.9461 - dice_coef: 0.8497Epoch 00011: val_loss improved from -0.77985 to -0.80280, saving model to segmentation_lr_e2_bs4.hdf5\n",
      "1500/1500 [==============================] - 488s - loss: -0.8318 - acc: 0.9461 - dice_coef: 0.8498 - val_loss: -0.8028 - val_acc: 0.9442 - val_dice_coef: 0.8188\n",
      "Epoch 13/200\n",
      "1496/1500 [============================>.] - ETA: 1s - loss: -0.8285 - acc: 0.9448 - dice_coef: 0.8432Epoch 00012: val_loss did not improve\n",
      "1500/1500 [==============================] - 487s - loss: -0.8287 - acc: 0.9449 - dice_coef: 0.8434 - val_loss: -0.6018 - val_acc: 0.8246 - val_dice_coef: 0.6193\n",
      "Epoch 14/200\n",
      "1496/1500 [============================>.] - ETA: 1s - loss: -0.8367 - acc: 0.9467 - dice_coef: 0.8498Epoch 00013: val_loss did not improve\n",
      "1500/1500 [==============================] - 488s - loss: -0.8361 - acc: 0.9463 - dice_coef: 0.8492 - val_loss: -0.4562 - val_acc: 0.8587 - val_dice_coef: 0.4666\n",
      "Epoch 15/200\n",
      "1496/1500 [============================>.] - ETA: 1s - loss: -0.8363 - acc: 0.9469 - dice_coef: 0.8493Epoch 00014: val_loss did not improve\n",
      "1500/1500 [==============================] - 488s - loss: -0.8365 - acc: 0.9470 - dice_coef: 0.8495 - val_loss: -0.7523 - val_acc: 0.9274 - val_dice_coef: 0.7648\n",
      "Epoch 16/200\n",
      "1496/1500 [============================>.] - ETA: 1s - loss: -0.8372 - acc: 0.9467 - dice_coef: 0.8517Epoch 00015: val_loss improved from -0.80280 to -0.80575, saving model to segmentation_lr_e2_bs4.hdf5\n",
      "1500/1500 [==============================] - 488s - loss: -0.8371 - acc: 0.9468 - dice_coef: 0.8517 - val_loss: -0.8057 - val_acc: 0.9415 - val_dice_coef: 0.8199\n",
      "Epoch 17/200\n",
      "1496/1500 [============================>.] - ETA: 1s - loss: -0.8478 - acc: 0.9493 - dice_coef: 0.8581Epoch 00016: val_loss did not improve\n",
      "1500/1500 [==============================] - 488s - loss: -0.8478 - acc: 0.9494 - dice_coef: 0.8582 - val_loss: -0.7311 - val_acc: 0.9210 - val_dice_coef: 0.7425\n",
      "Epoch 18/200\n",
      "1496/1500 [============================>.] - ETA: 1s - loss: -0.8475 - acc: 0.9505 - dice_coef: 0.8608Epoch 00017: val_loss did not improve\n",
      "1500/1500 [==============================] - 488s - loss: -0.8477 - acc: 0.9505 - dice_coef: 0.8609 - val_loss: -0.7941 - val_acc: 0.9399 - val_dice_coef: 0.8098\n",
      "Epoch 19/200\n",
      "1496/1500 [============================>.] - ETA: 1s - loss: -0.8484 - acc: 0.9502 - dice_coef: 0.8593Epoch 00018: val_loss did not improve\n",
      "1500/1500 [==============================] - 488s - loss: -0.8485 - acc: 0.9502 - dice_coef: 0.8594 - val_loss: -0.7827 - val_acc: 0.9346 - val_dice_coef: 0.7968\n",
      "Epoch 20/200\n",
      "1496/1500 [============================>.] - ETA: 1s - loss: -0.8511 - acc: 0.9509 - dice_coef: 0.8617Epoch 00019: val_loss improved from -0.80575 to -0.80813, saving model to segmentation_lr_e2_bs4.hdf5\n",
      "1500/1500 [==============================] - 488s - loss: -0.8510 - acc: 0.9508 - dice_coef: 0.8616 - val_loss: -0.8081 - val_acc: 0.9422 - val_dice_coef: 0.8181\n",
      "Epoch 21/200\n",
      "  52/1500 [>.............................] - ETA: 430s - loss: -0.8681 - acc: 0.9463 - dice_coef: 0.8786"
     ]
    },
    {
     "ename": "KeyboardInterrupt",
     "evalue": "",
     "output_type": "error",
     "traceback": [
      "\u001b[1;31m---------------------------------------------------------------------------\u001b[0m",
      "\u001b[1;31mKeyboardInterrupt\u001b[0m                         Traceback (most recent call last)",
      "\u001b[1;32m<ipython-input-24-f50030cd67e6>\u001b[0m in \u001b[0;36m<module>\u001b[1;34m()\u001b[0m\n\u001b[1;32m----> 1\u001b[1;33m \u001b[0mmodel\u001b[0m\u001b[1;33m.\u001b[0m\u001b[0mfit\u001b[0m\u001b[1;33m(\u001b[0m\u001b[0mx_train\u001b[0m\u001b[1;33m,\u001b[0m\u001b[0my_train\u001b[0m\u001b[1;33m,\u001b[0m\u001b[0mbatch_size\u001b[0m\u001b[1;33m=\u001b[0m\u001b[1;36m4\u001b[0m\u001b[1;33m,\u001b[0m\u001b[0mepochs\u001b[0m\u001b[1;33m=\u001b[0m\u001b[1;36m200\u001b[0m\u001b[1;33m,\u001b[0m\u001b[0mvalidation_data\u001b[0m\u001b[1;33m=\u001b[0m\u001b[1;33m(\u001b[0m\u001b[0mx_test\u001b[0m\u001b[1;33m,\u001b[0m \u001b[0my_test\u001b[0m\u001b[1;33m)\u001b[0m\u001b[1;33m,\u001b[0m\u001b[0mcallbacks\u001b[0m\u001b[1;33m=\u001b[0m\u001b[1;33m[\u001b[0m\u001b[0mlr_reducer\u001b[0m\u001b[1;33m,\u001b[0m \u001b[0mcsv_logger\u001b[0m\u001b[1;33m,\u001b[0m\u001b[0mmodel_chekpoint\u001b[0m\u001b[1;33m]\u001b[0m\u001b[1;33m)\u001b[0m\u001b[1;33m\u001b[0m\u001b[0m\n\u001b[0m",
      "\u001b[1;32m/home/iplab/anaconda2/lib/python2.7/site-packages/keras/engine/training.pyc\u001b[0m in \u001b[0;36mfit\u001b[1;34m(self, x, y, batch_size, epochs, verbose, callbacks, validation_split, validation_data, shuffle, class_weight, sample_weight, initial_epoch, **kwargs)\u001b[0m\n\u001b[0;32m   1483\u001b[0m                               \u001b[0mval_f\u001b[0m\u001b[1;33m=\u001b[0m\u001b[0mval_f\u001b[0m\u001b[1;33m,\u001b[0m \u001b[0mval_ins\u001b[0m\u001b[1;33m=\u001b[0m\u001b[0mval_ins\u001b[0m\u001b[1;33m,\u001b[0m \u001b[0mshuffle\u001b[0m\u001b[1;33m=\u001b[0m\u001b[0mshuffle\u001b[0m\u001b[1;33m,\u001b[0m\u001b[1;33m\u001b[0m\u001b[0m\n\u001b[0;32m   1484\u001b[0m                               \u001b[0mcallback_metrics\u001b[0m\u001b[1;33m=\u001b[0m\u001b[0mcallback_metrics\u001b[0m\u001b[1;33m,\u001b[0m\u001b[1;33m\u001b[0m\u001b[0m\n\u001b[1;32m-> 1485\u001b[1;33m                               initial_epoch=initial_epoch)\n\u001b[0m\u001b[0;32m   1486\u001b[0m \u001b[1;33m\u001b[0m\u001b[0m\n\u001b[0;32m   1487\u001b[0m     \u001b[1;32mdef\u001b[0m \u001b[0mevaluate\u001b[0m\u001b[1;33m(\u001b[0m\u001b[0mself\u001b[0m\u001b[1;33m,\u001b[0m \u001b[0mx\u001b[0m\u001b[1;33m,\u001b[0m \u001b[0my\u001b[0m\u001b[1;33m,\u001b[0m \u001b[0mbatch_size\u001b[0m\u001b[1;33m=\u001b[0m\u001b[1;36m32\u001b[0m\u001b[1;33m,\u001b[0m \u001b[0mverbose\u001b[0m\u001b[1;33m=\u001b[0m\u001b[1;36m1\u001b[0m\u001b[1;33m,\u001b[0m \u001b[0msample_weight\u001b[0m\u001b[1;33m=\u001b[0m\u001b[0mNone\u001b[0m\u001b[1;33m)\u001b[0m\u001b[1;33m:\u001b[0m\u001b[1;33m\u001b[0m\u001b[0m\n",
      "\u001b[1;32m/home/iplab/anaconda2/lib/python2.7/site-packages/keras/engine/training.pyc\u001b[0m in \u001b[0;36m_fit_loop\u001b[1;34m(self, f, ins, out_labels, batch_size, epochs, verbose, callbacks, val_f, val_ins, shuffle, callback_metrics, initial_epoch)\u001b[0m\n\u001b[0;32m   1138\u001b[0m                 \u001b[0mbatch_logs\u001b[0m\u001b[1;33m[\u001b[0m\u001b[1;34m'size'\u001b[0m\u001b[1;33m]\u001b[0m \u001b[1;33m=\u001b[0m \u001b[0mlen\u001b[0m\u001b[1;33m(\u001b[0m\u001b[0mbatch_ids\u001b[0m\u001b[1;33m)\u001b[0m\u001b[1;33m\u001b[0m\u001b[0m\n\u001b[0;32m   1139\u001b[0m                 \u001b[0mcallbacks\u001b[0m\u001b[1;33m.\u001b[0m\u001b[0mon_batch_begin\u001b[0m\u001b[1;33m(\u001b[0m\u001b[0mbatch_index\u001b[0m\u001b[1;33m,\u001b[0m \u001b[0mbatch_logs\u001b[0m\u001b[1;33m)\u001b[0m\u001b[1;33m\u001b[0m\u001b[0m\n\u001b[1;32m-> 1140\u001b[1;33m                 \u001b[0mouts\u001b[0m \u001b[1;33m=\u001b[0m \u001b[0mf\u001b[0m\u001b[1;33m(\u001b[0m\u001b[0mins_batch\u001b[0m\u001b[1;33m)\u001b[0m\u001b[1;33m\u001b[0m\u001b[0m\n\u001b[0m\u001b[0;32m   1141\u001b[0m                 \u001b[1;32mif\u001b[0m \u001b[1;32mnot\u001b[0m \u001b[0misinstance\u001b[0m\u001b[1;33m(\u001b[0m\u001b[0mouts\u001b[0m\u001b[1;33m,\u001b[0m \u001b[0mlist\u001b[0m\u001b[1;33m)\u001b[0m\u001b[1;33m:\u001b[0m\u001b[1;33m\u001b[0m\u001b[0m\n\u001b[0;32m   1142\u001b[0m                     \u001b[0mouts\u001b[0m \u001b[1;33m=\u001b[0m \u001b[1;33m[\u001b[0m\u001b[0mouts\u001b[0m\u001b[1;33m]\u001b[0m\u001b[1;33m\u001b[0m\u001b[0m\n",
      "\u001b[1;32m/home/iplab/anaconda2/lib/python2.7/site-packages/keras/backend/tensorflow_backend.pyc\u001b[0m in \u001b[0;36m__call__\u001b[1;34m(self, inputs)\u001b[0m\n\u001b[0;32m   2071\u001b[0m         \u001b[0msession\u001b[0m \u001b[1;33m=\u001b[0m \u001b[0mget_session\u001b[0m\u001b[1;33m(\u001b[0m\u001b[1;33m)\u001b[0m\u001b[1;33m\u001b[0m\u001b[0m\n\u001b[0;32m   2072\u001b[0m         updated = session.run(self.outputs + [self.updates_op],\n\u001b[1;32m-> 2073\u001b[1;33m                               feed_dict=feed_dict)\n\u001b[0m\u001b[0;32m   2074\u001b[0m         \u001b[1;32mreturn\u001b[0m \u001b[0mupdated\u001b[0m\u001b[1;33m[\u001b[0m\u001b[1;33m:\u001b[0m\u001b[0mlen\u001b[0m\u001b[1;33m(\u001b[0m\u001b[0mself\u001b[0m\u001b[1;33m.\u001b[0m\u001b[0moutputs\u001b[0m\u001b[1;33m)\u001b[0m\u001b[1;33m]\u001b[0m\u001b[1;33m\u001b[0m\u001b[0m\n\u001b[0;32m   2075\u001b[0m \u001b[1;33m\u001b[0m\u001b[0m\n",
      "\u001b[1;32m/home/iplab/anaconda2/lib/python2.7/site-packages/tensorflow/python/client/session.pyc\u001b[0m in \u001b[0;36mrun\u001b[1;34m(self, fetches, feed_dict, options, run_metadata)\u001b[0m\n\u001b[0;32m    765\u001b[0m     \u001b[1;32mtry\u001b[0m\u001b[1;33m:\u001b[0m\u001b[1;33m\u001b[0m\u001b[0m\n\u001b[0;32m    766\u001b[0m       result = self._run(None, fetches, feed_dict, options_ptr,\n\u001b[1;32m--> 767\u001b[1;33m                          run_metadata_ptr)\n\u001b[0m\u001b[0;32m    768\u001b[0m       \u001b[1;32mif\u001b[0m \u001b[0mrun_metadata\u001b[0m\u001b[1;33m:\u001b[0m\u001b[1;33m\u001b[0m\u001b[0m\n\u001b[0;32m    769\u001b[0m         \u001b[0mproto_data\u001b[0m \u001b[1;33m=\u001b[0m \u001b[0mtf_session\u001b[0m\u001b[1;33m.\u001b[0m\u001b[0mTF_GetBuffer\u001b[0m\u001b[1;33m(\u001b[0m\u001b[0mrun_metadata_ptr\u001b[0m\u001b[1;33m)\u001b[0m\u001b[1;33m\u001b[0m\u001b[0m\n",
      "\u001b[1;32m/home/iplab/anaconda2/lib/python2.7/site-packages/tensorflow/python/client/session.pyc\u001b[0m in \u001b[0;36m_run\u001b[1;34m(self, handle, fetches, feed_dict, options, run_metadata)\u001b[0m\n\u001b[0;32m    963\u001b[0m     \u001b[1;32mif\u001b[0m \u001b[0mfinal_fetches\u001b[0m \u001b[1;32mor\u001b[0m \u001b[0mfinal_targets\u001b[0m\u001b[1;33m:\u001b[0m\u001b[1;33m\u001b[0m\u001b[0m\n\u001b[0;32m    964\u001b[0m       results = self._do_run(handle, final_targets, final_fetches,\n\u001b[1;32m--> 965\u001b[1;33m                              feed_dict_string, options, run_metadata)\n\u001b[0m\u001b[0;32m    966\u001b[0m     \u001b[1;32melse\u001b[0m\u001b[1;33m:\u001b[0m\u001b[1;33m\u001b[0m\u001b[0m\n\u001b[0;32m    967\u001b[0m       \u001b[0mresults\u001b[0m \u001b[1;33m=\u001b[0m \u001b[1;33m[\u001b[0m\u001b[1;33m]\u001b[0m\u001b[1;33m\u001b[0m\u001b[0m\n",
      "\u001b[1;32m/home/iplab/anaconda2/lib/python2.7/site-packages/tensorflow/python/client/session.pyc\u001b[0m in \u001b[0;36m_do_run\u001b[1;34m(self, handle, target_list, fetch_list, feed_dict, options, run_metadata)\u001b[0m\n\u001b[0;32m   1013\u001b[0m     \u001b[1;32mif\u001b[0m \u001b[0mhandle\u001b[0m \u001b[1;32mis\u001b[0m \u001b[0mNone\u001b[0m\u001b[1;33m:\u001b[0m\u001b[1;33m\u001b[0m\u001b[0m\n\u001b[0;32m   1014\u001b[0m       return self._do_call(_run_fn, self._session, feed_dict, fetch_list,\n\u001b[1;32m-> 1015\u001b[1;33m                            target_list, options, run_metadata)\n\u001b[0m\u001b[0;32m   1016\u001b[0m     \u001b[1;32melse\u001b[0m\u001b[1;33m:\u001b[0m\u001b[1;33m\u001b[0m\u001b[0m\n\u001b[0;32m   1017\u001b[0m       return self._do_call(_prun_fn, self._session, handle, feed_dict,\n",
      "\u001b[1;32m/home/iplab/anaconda2/lib/python2.7/site-packages/tensorflow/python/client/session.pyc\u001b[0m in \u001b[0;36m_do_call\u001b[1;34m(self, fn, *args)\u001b[0m\n\u001b[0;32m   1020\u001b[0m   \u001b[1;32mdef\u001b[0m \u001b[0m_do_call\u001b[0m\u001b[1;33m(\u001b[0m\u001b[0mself\u001b[0m\u001b[1;33m,\u001b[0m \u001b[0mfn\u001b[0m\u001b[1;33m,\u001b[0m \u001b[1;33m*\u001b[0m\u001b[0margs\u001b[0m\u001b[1;33m)\u001b[0m\u001b[1;33m:\u001b[0m\u001b[1;33m\u001b[0m\u001b[0m\n\u001b[0;32m   1021\u001b[0m     \u001b[1;32mtry\u001b[0m\u001b[1;33m:\u001b[0m\u001b[1;33m\u001b[0m\u001b[0m\n\u001b[1;32m-> 1022\u001b[1;33m       \u001b[1;32mreturn\u001b[0m \u001b[0mfn\u001b[0m\u001b[1;33m(\u001b[0m\u001b[1;33m*\u001b[0m\u001b[0margs\u001b[0m\u001b[1;33m)\u001b[0m\u001b[1;33m\u001b[0m\u001b[0m\n\u001b[0m\u001b[0;32m   1023\u001b[0m     \u001b[1;32mexcept\u001b[0m \u001b[0merrors\u001b[0m\u001b[1;33m.\u001b[0m\u001b[0mOpError\u001b[0m \u001b[1;32mas\u001b[0m \u001b[0me\u001b[0m\u001b[1;33m:\u001b[0m\u001b[1;33m\u001b[0m\u001b[0m\n\u001b[0;32m   1024\u001b[0m       \u001b[0mmessage\u001b[0m \u001b[1;33m=\u001b[0m \u001b[0mcompat\u001b[0m\u001b[1;33m.\u001b[0m\u001b[0mas_text\u001b[0m\u001b[1;33m(\u001b[0m\u001b[0me\u001b[0m\u001b[1;33m.\u001b[0m\u001b[0mmessage\u001b[0m\u001b[1;33m)\u001b[0m\u001b[1;33m\u001b[0m\u001b[0m\n",
      "\u001b[1;32m/home/iplab/anaconda2/lib/python2.7/site-packages/tensorflow/python/client/session.pyc\u001b[0m in \u001b[0;36m_run_fn\u001b[1;34m(session, feed_dict, fetch_list, target_list, options, run_metadata)\u001b[0m\n\u001b[0;32m   1002\u001b[0m         return tf_session.TF_Run(session, options,\n\u001b[0;32m   1003\u001b[0m                                  \u001b[0mfeed_dict\u001b[0m\u001b[1;33m,\u001b[0m \u001b[0mfetch_list\u001b[0m\u001b[1;33m,\u001b[0m \u001b[0mtarget_list\u001b[0m\u001b[1;33m,\u001b[0m\u001b[1;33m\u001b[0m\u001b[0m\n\u001b[1;32m-> 1004\u001b[1;33m                                  status, run_metadata)\n\u001b[0m\u001b[0;32m   1005\u001b[0m \u001b[1;33m\u001b[0m\u001b[0m\n\u001b[0;32m   1006\u001b[0m     \u001b[1;32mdef\u001b[0m \u001b[0m_prun_fn\u001b[0m\u001b[1;33m(\u001b[0m\u001b[0msession\u001b[0m\u001b[1;33m,\u001b[0m \u001b[0mhandle\u001b[0m\u001b[1;33m,\u001b[0m \u001b[0mfeed_dict\u001b[0m\u001b[1;33m,\u001b[0m \u001b[0mfetch_list\u001b[0m\u001b[1;33m)\u001b[0m\u001b[1;33m:\u001b[0m\u001b[1;33m\u001b[0m\u001b[0m\n",
      "\u001b[1;31mKeyboardInterrupt\u001b[0m: "
     ]
    }
   ],
   "source": [
    "model.fit(x_train,y_train,batch_size=4,epochs=200,validation_data=(x_test, y_test),callbacks=[lr_reducer, csv_logger,model_chekpoint])"
   ]
  },
  {
   "cell_type": "code",
   "execution_count": 25,
   "metadata": {
    "collapsed": true
   },
   "outputs": [],
   "source": [
    "model.load_weights('segmentation_lr_e2_bs4.hdf5')"
   ]
  },
  {
   "cell_type": "code",
   "execution_count": 28,
   "metadata": {
    "collapsed": false
   },
   "outputs": [
    {
     "data": {
      "text/plain": [
       "(256, 128, 3)"
      ]
     },
     "execution_count": 28,
     "metadata": {},
     "output_type": "execute_result"
    }
   ],
   "source": [
    "x[3].shape"
   ]
  },
  {
   "cell_type": "code",
   "execution_count": 30,
   "metadata": {
    "collapsed": false
   },
   "outputs": [
    {
     "data": {
      "text/plain": [
       "<matplotlib.image.AxesImage at 0x7f76ac0a4e10>"
      ]
     },
     "execution_count": 30,
     "metadata": {},
     "output_type": "execute_result"
    },
    {
     "data": {
      "image/png": "[encoded data removed]",
      "text/plain": [
       "<matplotlib.figure.Figure at 0x7f76ac0c3a10>"
      ]
     },
     "metadata": {},
     "output_type": "display_data"
    }
   ],
   "source": [
    "plt.imshow(x[3])"
   ]
  },
  {
   "cell_type": "code",
   "execution_count": 31,
   "metadata": {
    "collapsed": false
   },
   "outputs": [
    {
     "data": {
      "text/plain": [
       "<matplotlib.image.AxesImage at 0x7f76a0682490>"
      ]
     },
     "execution_count": 31,
     "metadata": {},
     "output_type": "execute_result"
    },
    {
     "data": {
      "image/png": "[encoded data removed]",
      "text/plain": [
       "<matplotlib.figure.Figure at 0x7f76a069b110>"
      ]
     },
     "metadata": {},
     "output_type": "display_data"
    }
   ],
   "source": [
    "plt.imshow(y[3])"
   ]
  },
  {
   "cell_type": "code",
   "execution_count": 32,
   "metadata": {
    "collapsed": false
   },
   "outputs": [
    {
     "data": {
      "text/plain": [
       "(256, 128, 1)"
      ]
     },
     "execution_count": 32,
     "metadata": {},
     "output_type": "execute_result"
    }
   ],
   "source": [
    "y_test[0].shape"
   ]
  },
  {
   "cell_type": "code",
   "execution_count": 33,
   "metadata": {
    "collapsed": true
   },
   "outputs": [],
   "source": [
    "gt = y_test[0].reshape((256,128))"
   ]
  },
  {
   "cell_type": "code",
   "execution_count": 34,
   "metadata": {
    "collapsed": false
   },
   "outputs": [
    {
     "data": {
      "text/plain": [
       "<matplotlib.image.AxesImage at 0x7f7698640b90>"
      ]
     },
     "execution_count": 34,
     "metadata": {},
     "output_type": "execute_result"
    },
    {
     "data": {
      "image/png": "[encoded data removed]",
      "text/plain": [
       "<matplotlib.figure.Figure at 0x7f76a0626a90>"
      ]
     },
     "metadata": {},
     "output_type": "display_data"
    }
   ],
   "source": [
    "plt.imshow(gt, cmap = \"gray\")"
   ]
  },
  {
   "cell_type": "code",
   "execution_count": 39,
   "metadata": {
    "collapsed": false
   },
   "outputs": [],
   "source": [
    "testing_image = x_test[0].reshape((1,256,128,3))"
   ]
  },
  {
   "cell_type": "code",
   "execution_count": 40,
   "metadata": {
    "collapsed": false
   },
   "outputs": [],
   "source": [
    "prediction = model.predict(testing_image)"
   ]
  },
  {
   "cell_type": "code",
   "execution_count": 42,
   "metadata": {
    "collapsed": false
   },
   "outputs": [
    {
     "data": {
      "text/plain": [
       "(1, 256, 128, 1)"
      ]
     },
     "execution_count": 42,
     "metadata": {},
     "output_type": "execute_result"
    }
   ],
   "source": [
    "prediction.shape"
   ]
  },
  {
   "cell_type": "code",
   "execution_count": 43,
   "metadata": {
    "collapsed": true
   },
   "outputs": [],
   "source": [
    "prediction = prediction.reshape((256,128))"
   ]
  },
  {
   "cell_type": "code",
   "execution_count": 49,
   "metadata": {
    "collapsed": true
   },
   "outputs": [],
   "source": [
    "sample = prediction > 0.5"
   ]
  },
  {
   "cell_type": "code",
   "execution_count": 51,
   "metadata": {
    "collapsed": false
   },
   "outputs": [
    {
     "data": {
      "text/plain": [
       "<matplotlib.image.AxesImage at 0x7f765402bc10>"
      ]
     },
     "execution_count": 51,
     "metadata": {},
     "output_type": "execute_result"
    },
    {
     "data": {
      "image/png": "[encoded data removed]",
      "text/plain": [
       "<matplotlib.figure.Figure at 0x7f7654082d90>"
      ]
     },
     "metadata": {},
     "output_type": "display_data"
    }
   ],
   "source": [
    "plt.imshow(sample, cmap = \"gray\")"
   ]
  },
  {
   "cell_type": "code",
   "execution_count": 53,
   "metadata": {
    "collapsed": false
   },
   "outputs": [
    {
     "data": {
      "text/plain": [
       "<matplotlib.image.AxesImage at 0x7f761a261850>"
      ]
     },
     "execution_count": 53,
     "metadata": {},
     "output_type": "execute_result"
    },
    {
     "data": {
      "image/png": "[encoded data removed]",
      "text/plain": [
       "<matplotlib.figure.Figure at 0x7f76ae38aa10>"
      ]
     },
     "metadata": {},
     "output_type": "display_data"
    }
   ],
   "source": [
    "plt.subplot(1,2,1)\n",
    "plt.imshow(sample, cmap = \"gray\")\n",
    "plt.subplot(1,2,2)\n",
    "plt.imshow(gt, cmap = \"gray\")"
   ]
  },
  {
   "cell_type": "code",
   "execution_count": null,
   "metadata": {
    "collapsed": true
   },
   "outputs": [],
   "source": []
  }
 ],
 "metadata": {
  "kernelspec": {
   "display_name": "Python [Root]",
   "language": "python",
   "name": "Python [Root]"
  },
  "language_info": {
   "codemirror_mode": {
    "name": "ipython",
    "version": 2
   },
   "file_extension": ".py",
   "mimetype": "text/x-python",
   "name": "python",
   "nbconvert_exporter": "python",
   "pygments_lexer": "ipython2",
   "version": "2.7.12"
  }
 },
 "nbformat": 4,
 "nbformat_minor": 2
}
